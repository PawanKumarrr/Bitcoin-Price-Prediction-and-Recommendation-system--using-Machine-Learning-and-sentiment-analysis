{
  "nbformat": 4,
  "nbformat_minor": 0,
  "metadata": {
    "colab": {
      "provenance": [],
      "include_colab_link": true
    },
    "kernelspec": {
      "name": "python3",
      "display_name": "Python 3"
    },
    "language_info": {
      "name": "python"
    }
  },
  "cells": [
    {
      "cell_type": "markdown",
      "metadata": {
        "id": "view-in-github",
        "colab_type": "text"
      },
      "source": [
        "<a href=\"https://colab.research.google.com/github/PawanKumarrr/Bitcoin-Price-Prediction-and-Recommendation-system--using-Machine-Learning-and-sentiment-analysis/blob/main/Copy_of_Bitcoin_Price_Prediction_and_Recommendation_system_using_Machine_Learning_and_sentiment_analysis.ipynb\" target=\"_parent\"><img src=\"https://colab.research.google.com/assets/colab-badge.svg\" alt=\"Open In Colab\"/></a>"
      ]
    },
    {
      "cell_type": "markdown",
      "source": [
        "Installing the api for fetching the data"
      ],
      "metadata": {
        "id": "7I1rrC7WZP7T"
      }
    },
    {
      "cell_type": "code",
      "execution_count": null,
      "metadata": {
        "id": "7_Pix0bpQxeC",
        "colab": {
          "base_uri": "https://localhost:8080/"
        },
        "outputId": "f8e49f52-571d-44c7-e140-25cff19f62f6"
      },
      "outputs": [
        {
          "output_type": "stream",
          "name": "stdout",
          "text": [
            "Looking in indexes: https://pypi.org/simple, https://us-python.pkg.dev/colab-wheels/public/simple/\n",
            "Collecting alpha_vantage\n",
            "  Downloading alpha_vantage-2.3.1-py3-none-any.whl (31 kB)\n",
            "Collecting aiohttp (from alpha_vantage)\n",
            "  Downloading aiohttp-3.8.4-cp310-cp310-manylinux_2_17_x86_64.manylinux2014_x86_64.whl (1.0 MB)\n",
            "\u001b[2K     \u001b[90m━━━━━━━━━━━━━━━━━━━━━━━━━━━━━━━━━━━━━━━━\u001b[0m \u001b[32m1.0/1.0 MB\u001b[0m \u001b[31m13.4 MB/s\u001b[0m eta \u001b[36m0:00:00\u001b[0m\n",
            "\u001b[?25hRequirement already satisfied: requests in /usr/local/lib/python3.10/dist-packages (from alpha_vantage) (2.27.1)\n",
            "Requirement already satisfied: attrs>=17.3.0 in /usr/local/lib/python3.10/dist-packages (from aiohttp->alpha_vantage) (23.1.0)\n",
            "Requirement already satisfied: charset-normalizer<4.0,>=2.0 in /usr/local/lib/python3.10/dist-packages (from aiohttp->alpha_vantage) (2.0.12)\n",
            "Collecting multidict<7.0,>=4.5 (from aiohttp->alpha_vantage)\n",
            "  Downloading multidict-6.0.4-cp310-cp310-manylinux_2_17_x86_64.manylinux2014_x86_64.whl (114 kB)\n",
            "\u001b[2K     \u001b[90m━━━━━━━━━━━━━━━━━━━━━━━━━━━━━━━━━━━━━━\u001b[0m \u001b[32m114.5/114.5 kB\u001b[0m \u001b[31m14.0 MB/s\u001b[0m eta \u001b[36m0:00:00\u001b[0m\n",
            "\u001b[?25hCollecting async-timeout<5.0,>=4.0.0a3 (from aiohttp->alpha_vantage)\n",
            "  Downloading async_timeout-4.0.2-py3-none-any.whl (5.8 kB)\n",
            "Collecting yarl<2.0,>=1.0 (from aiohttp->alpha_vantage)\n",
            "  Downloading yarl-1.9.2-cp310-cp310-manylinux_2_17_x86_64.manylinux2014_x86_64.whl (268 kB)\n",
            "\u001b[2K     \u001b[90m━━━━━━━━━━━━━━━━━━━━━━━━━━━━━━━━━━━━━━\u001b[0m \u001b[32m268.8/268.8 kB\u001b[0m \u001b[31m29.4 MB/s\u001b[0m eta \u001b[36m0:00:00\u001b[0m\n",
            "\u001b[?25hCollecting frozenlist>=1.1.1 (from aiohttp->alpha_vantage)\n",
            "  Downloading frozenlist-1.3.3-cp310-cp310-manylinux_2_5_x86_64.manylinux1_x86_64.manylinux_2_17_x86_64.manylinux2014_x86_64.whl (149 kB)\n",
            "\u001b[2K     \u001b[90m━━━━━━━━━━━━━━━━━━━━━━━━━━━━━━━━━━━━━━\u001b[0m \u001b[32m149.6/149.6 kB\u001b[0m \u001b[31m17.5 MB/s\u001b[0m eta \u001b[36m0:00:00\u001b[0m\n",
            "\u001b[?25hCollecting aiosignal>=1.1.2 (from aiohttp->alpha_vantage)\n",
            "  Downloading aiosignal-1.3.1-py3-none-any.whl (7.6 kB)\n",
            "Requirement already satisfied: urllib3<1.27,>=1.21.1 in /usr/local/lib/python3.10/dist-packages (from requests->alpha_vantage) (1.26.15)\n",
            "Requirement already satisfied: certifi>=2017.4.17 in /usr/local/lib/python3.10/dist-packages (from requests->alpha_vantage) (2022.12.7)\n",
            "Requirement already satisfied: idna<4,>=2.5 in /usr/local/lib/python3.10/dist-packages (from requests->alpha_vantage) (3.4)\n",
            "Installing collected packages: multidict, frozenlist, async-timeout, yarl, aiosignal, aiohttp, alpha_vantage\n",
            "Successfully installed aiohttp-3.8.4 aiosignal-1.3.1 alpha_vantage-2.3.1 async-timeout-4.0.2 frozenlist-1.3.3 multidict-6.0.4 yarl-1.9.2\n"
          ]
        }
      ],
      "source": [
        "!pip3 install alpha_vantage"
      ]
    },
    {
      "cell_type": "code",
      "source": [
        "!pip3 install yfinance"
      ],
      "metadata": {
        "id": "ljhaIhdtZcKn",
        "colab": {
          "base_uri": "https://localhost:8080/"
        },
        "outputId": "bd3411d3-cb36-4170-8e9c-ba5ad3976273"
      },
      "execution_count": null,
      "outputs": [
        {
          "output_type": "stream",
          "name": "stdout",
          "text": [
            "Looking in indexes: https://pypi.org/simple, https://us-python.pkg.dev/colab-wheels/public/simple/\n",
            "Requirement already satisfied: yfinance in /usr/local/lib/python3.10/dist-packages (0.2.18)\n",
            "Requirement already satisfied: pandas>=1.3.0 in /usr/local/lib/python3.10/dist-packages (from yfinance) (1.5.3)\n",
            "Requirement already satisfied: numpy>=1.16.5 in /usr/local/lib/python3.10/dist-packages (from yfinance) (1.22.4)\n",
            "Requirement already satisfied: requests>=2.26 in /usr/local/lib/python3.10/dist-packages (from yfinance) (2.27.1)\n",
            "Requirement already satisfied: multitasking>=0.0.7 in /usr/local/lib/python3.10/dist-packages (from yfinance) (0.0.11)\n",
            "Requirement already satisfied: lxml>=4.9.1 in /usr/local/lib/python3.10/dist-packages (from yfinance) (4.9.2)\n",
            "Requirement already satisfied: appdirs>=1.4.4 in /usr/local/lib/python3.10/dist-packages (from yfinance) (1.4.4)\n",
            "Requirement already satisfied: pytz>=2022.5 in /usr/local/lib/python3.10/dist-packages (from yfinance) (2022.7.1)\n",
            "Requirement already satisfied: frozendict>=2.3.4 in /usr/local/lib/python3.10/dist-packages (from yfinance) (2.3.7)\n",
            "Requirement already satisfied: cryptography>=3.3.2 in /usr/local/lib/python3.10/dist-packages (from yfinance) (40.0.2)\n",
            "Requirement already satisfied: beautifulsoup4>=4.11.1 in /usr/local/lib/python3.10/dist-packages (from yfinance) (4.11.2)\n",
            "Requirement already satisfied: html5lib>=1.1 in /usr/local/lib/python3.10/dist-packages (from yfinance) (1.1)\n",
            "Requirement already satisfied: soupsieve>1.2 in /usr/local/lib/python3.10/dist-packages (from beautifulsoup4>=4.11.1->yfinance) (2.4.1)\n",
            "Requirement already satisfied: cffi>=1.12 in /usr/local/lib/python3.10/dist-packages (from cryptography>=3.3.2->yfinance) (1.15.1)\n",
            "Requirement already satisfied: six>=1.9 in /usr/local/lib/python3.10/dist-packages (from html5lib>=1.1->yfinance) (1.16.0)\n",
            "Requirement already satisfied: webencodings in /usr/local/lib/python3.10/dist-packages (from html5lib>=1.1->yfinance) (0.5.1)\n",
            "Requirement already satisfied: python-dateutil>=2.8.1 in /usr/local/lib/python3.10/dist-packages (from pandas>=1.3.0->yfinance) (2.8.2)\n",
            "Requirement already satisfied: urllib3<1.27,>=1.21.1 in /usr/local/lib/python3.10/dist-packages (from requests>=2.26->yfinance) (1.26.15)\n",
            "Requirement already satisfied: certifi>=2017.4.17 in /usr/local/lib/python3.10/dist-packages (from requests>=2.26->yfinance) (2022.12.7)\n",
            "Requirement already satisfied: charset-normalizer~=2.0.0 in /usr/local/lib/python3.10/dist-packages (from requests>=2.26->yfinance) (2.0.12)\n",
            "Requirement already satisfied: idna<4,>=2.5 in /usr/local/lib/python3.10/dist-packages (from requests>=2.26->yfinance) (3.4)\n",
            "Requirement already satisfied: pycparser in /usr/local/lib/python3.10/dist-packages (from cffi>=1.12->cryptography>=3.3.2->yfinance) (2.21)\n"
          ]
        }
      ]
    },
    {
      "cell_type": "code",
      "source": [
        "!pip3 install preprocessor"
      ],
      "metadata": {
        "id": "PUV2s0gCZ-VF",
        "colab": {
          "base_uri": "https://localhost:8080/"
        },
        "outputId": "42bd3386-cf58-479b-d049-71a6ab5bca8e"
      },
      "execution_count": null,
      "outputs": [
        {
          "output_type": "stream",
          "name": "stdout",
          "text": [
            "Looking in indexes: https://pypi.org/simple, https://us-python.pkg.dev/colab-wheels/public/simple/\n",
            "Collecting preprocessor\n",
            "  Downloading preprocessor-1.1.3.tar.gz (4.2 kB)\n",
            "  Preparing metadata (setup.py) ... \u001b[?25l\u001b[?25hdone\n",
            "Building wheels for collected packages: preprocessor\n",
            "  Building wheel for preprocessor (setup.py) ... \u001b[?25l\u001b[?25hdone\n",
            "  Created wheel for preprocessor: filename=preprocessor-1.1.3-py3-none-any.whl size=4473 sha256=9c1d4e7d0ad70c64f247a5985231977e46c2aefaced861fdaccbe7d3993e5ef1\n",
            "  Stored in directory: /root/.cache/pip/wheels/b6/26/c1/ce3fdf93e63c11019da18dbeec4c09309d3edc5461c2a5fffb\n",
            "Successfully built preprocessor\n",
            "Installing collected packages: preprocessor\n",
            "Successfully installed preprocessor-1.1.3\n"
          ]
        }
      ]
    },
    {
      "cell_type": "code",
      "source": [
        "!pip3 install tweepy==4.12"
      ],
      "metadata": {
        "id": "3zr6zEVjuvTw",
        "colab": {
          "base_uri": "https://localhost:8080/"
        },
        "outputId": "e073166a-154c-449f-82f4-694d418f5478"
      },
      "execution_count": null,
      "outputs": [
        {
          "output_type": "stream",
          "name": "stdout",
          "text": [
            "Looking in indexes: https://pypi.org/simple, https://us-python.pkg.dev/colab-wheels/public/simple/\n",
            "Collecting tweepy==4.12\n",
            "  Downloading tweepy-4.12.0-py3-none-any.whl (101 kB)\n",
            "\u001b[2K     \u001b[90m━━━━━━━━━━━━━━━━━━━━━━━━━━━━━━━━━━━━━━━\u001b[0m \u001b[32m101.2/101.2 kB\u001b[0m \u001b[31m5.8 MB/s\u001b[0m eta \u001b[36m0:00:00\u001b[0m\n",
            "\u001b[?25hRequirement already satisfied: oauthlib<4,>=3.2.0 in /usr/local/lib/python3.10/dist-packages (from tweepy==4.12) (3.2.2)\n",
            "Requirement already satisfied: requests<3,>=2.27.0 in /usr/local/lib/python3.10/dist-packages (from tweepy==4.12) (2.27.1)\n",
            "Requirement already satisfied: requests-oauthlib<2,>=1.2.0 in /usr/local/lib/python3.10/dist-packages (from tweepy==4.12) (1.3.1)\n",
            "Requirement already satisfied: urllib3<1.27,>=1.21.1 in /usr/local/lib/python3.10/dist-packages (from requests<3,>=2.27.0->tweepy==4.12) (1.26.15)\n",
            "Requirement already satisfied: certifi>=2017.4.17 in /usr/local/lib/python3.10/dist-packages (from requests<3,>=2.27.0->tweepy==4.12) (2022.12.7)\n",
            "Requirement already satisfied: charset-normalizer~=2.0.0 in /usr/local/lib/python3.10/dist-packages (from requests<3,>=2.27.0->tweepy==4.12) (2.0.12)\n",
            "Requirement already satisfied: idna<4,>=2.5 in /usr/local/lib/python3.10/dist-packages (from requests<3,>=2.27.0->tweepy==4.12) (3.4)\n",
            "Installing collected packages: tweepy\n",
            "  Attempting uninstall: tweepy\n",
            "    Found existing installation: tweepy 4.13.0\n",
            "    Uninstalling tweepy-4.13.0:\n",
            "      Successfully uninstalled tweepy-4.13.0\n",
            "Successfully installed tweepy-4.12.0\n"
          ]
        }
      ]
    },
    {
      "cell_type": "code",
      "source": [
        "#**************** IMPORT PACKAGES ********************\n",
        "from flask import Flask, render_template, request, flash, redirect, url_for\n",
        "from alpha_vantage.timeseries import TimeSeries\n",
        "import pandas as pd\n",
        "import numpy as np\n",
        "from statsmodels.tsa.arima.model import ARIMA\n",
        "#model = ARIMA(dataFrame.columnName, order=(1,0,0))\n",
        "#from statsmodels.tsa.arima_model import ARIMA\n",
        "from sklearn.metrics import mean_squared_error\n",
        "import matplotlib.pyplot as plt\n",
        "plt.style.use('ggplot')\n",
        "import math, random\n",
        "from datetime import datetime\n",
        "import datetime as dt\n",
        "import yfinance as yf\n",
        "#library for twitter sentiment analysis\n",
        "import re\n",
        "import tweepy\n",
        "from tweepy import OAuthHandler\n",
        "import preprocessor as p\n",
        "import re\n",
        "from sklearn.linear_model import LinearRegression\n",
        "from textblob import TextBlob\n",
        "#import constants as ct\n",
        "#import Tweet\n",
        "import nltk\n",
        "nltk.download('punkt')\n",
        "\n",
        "from statsmodels.tsa.stattools import adfuller\n",
        "#from statsmodels.tsa.arima_model import ARIMA\n",
        "# Ignore Warnings\n",
        "import warnings\n",
        "warnings.filterwarnings(\"ignore\")\n",
        "import os\n",
        "os.environ['TF_CPP_MIN_LOG_LEVEL'] = '3'\n"
      ],
      "metadata": {
        "id": "teqtMhoGbm87",
        "colab": {
          "base_uri": "https://localhost:8080/"
        },
        "outputId": "7aea11c6-db95-4db8-af46-fea75bfc085c"
      },
      "execution_count": null,
      "outputs": [
        {
          "output_type": "stream",
          "name": "stderr",
          "text": [
            "[nltk_data] Downloading package punkt to /root/nltk_data...\n",
            "[nltk_data]   Unzipping tokenizers/punkt.zip.\n"
          ]
        }
      ]
    },
    {
      "cell_type": "code",
      "source": [
        "import tweepy"
      ],
      "metadata": {
        "id": "834nLV1AuZqD"
      },
      "execution_count": null,
      "outputs": []
    },
    {
      "cell_type": "markdown",
      "source": [
        "Vantage API KEY =4DTXRVH7Z2V12C4Z"
      ],
      "metadata": {
        "id": "69T0l2R2cNdX"
      }
    },
    {
      "cell_type": "code",
      "source": [
        "!pip3 install cryptocmd"
      ],
      "metadata": {
        "id": "JokfwJnfeUy_",
        "colab": {
          "base_uri": "https://localhost:8080/"
        },
        "outputId": "50a038ee-de2e-4058-df0c-3ea7b339f59b"
      },
      "execution_count": null,
      "outputs": [
        {
          "output_type": "stream",
          "name": "stdout",
          "text": [
            "Looking in indexes: https://pypi.org/simple, https://us-python.pkg.dev/colab-wheels/public/simple/\n",
            "Collecting cryptocmd\n",
            "  Downloading cryptocmd-0.6.1-py3-none-any.whl (8.5 kB)\n",
            "Requirement already satisfied: requests in /usr/local/lib/python3.10/dist-packages (from cryptocmd) (2.27.1)\n",
            "Collecting tablib (from cryptocmd)\n",
            "  Downloading tablib-3.4.0-py3-none-any.whl (45 kB)\n",
            "\u001b[2K     \u001b[90m━━━━━━━━━━━━━━━━━━━━━━━━━━━━━━━━━━━━━━━━\u001b[0m \u001b[32m45.5/45.5 kB\u001b[0m \u001b[31m4.4 MB/s\u001b[0m eta \u001b[36m0:00:00\u001b[0m\n",
            "\u001b[?25hRequirement already satisfied: urllib3<1.27,>=1.21.1 in /usr/local/lib/python3.10/dist-packages (from requests->cryptocmd) (1.26.15)\n",
            "Requirement already satisfied: certifi>=2017.4.17 in /usr/local/lib/python3.10/dist-packages (from requests->cryptocmd) (2022.12.7)\n",
            "Requirement already satisfied: charset-normalizer~=2.0.0 in /usr/local/lib/python3.10/dist-packages (from requests->cryptocmd) (2.0.12)\n",
            "Requirement already satisfied: idna<4,>=2.5 in /usr/local/lib/python3.10/dist-packages (from requests->cryptocmd) (3.4)\n",
            "Installing collected packages: tablib, cryptocmd\n",
            "Successfully installed cryptocmd-0.6.1 tablib-3.4.0\n"
          ]
        }
      ]
    },
    {
      "cell_type": "code",
      "source": [
        "from cryptocmd import CmcScraper\n",
        "\n",
        "# initialise scraper without time interval for max historical data\n",
        "scraper = CmcScraper(\"BTC\")\n",
        "# Pandas dataFrame for the same data\n",
        "df = scraper.get_dataframe()\n",
        "# initialise scraper with time interval for e.g a year from today\n",
        "scraper = CmcScraper(\"BTC\", \"1-1-2014\", \"1-10-2022\")\n",
        "# Pandas dataFrame for the same data\n",
        "df = scraper.get_dataframe()\n",
        "df.to_csv('Crypto'+'.csv',index=False)"
      ],
      "metadata": {
        "id": "-imItcI4eY7w"
      },
      "execution_count": null,
      "outputs": []
    },
    {
      "cell_type": "code",
      "source": [
        "df.info()"
      ],
      "metadata": {
        "colab": {
          "base_uri": "https://localhost:8080/"
        },
        "id": "vt9CBl3fr299",
        "outputId": "e5f3f24d-d544-47dc-d50d-7868d1ea1219"
      },
      "execution_count": null,
      "outputs": [
        {
          "output_type": "stream",
          "name": "stdout",
          "text": [
            "<class 'pandas.core.frame.DataFrame'>\n",
            "RangeIndex: 3196 entries, 0 to 3195\n",
            "Data columns (total 7 columns):\n",
            " #   Column      Non-Null Count  Dtype         \n",
            "---  ------      --------------  -----         \n",
            " 0   Date        3196 non-null   datetime64[ns]\n",
            " 1   Open        3196 non-null   float64       \n",
            " 2   High        3196 non-null   float64       \n",
            " 3   Low         3196 non-null   float64       \n",
            " 4   Close       3196 non-null   float64       \n",
            " 5   Volume      3196 non-null   float64       \n",
            " 6   Market Cap  3196 non-null   float64       \n",
            "dtypes: datetime64[ns](1), float64(6)\n",
            "memory usage: 174.9 KB\n"
          ]
        }
      ]
    },
    {
      "cell_type": "code",
      "source": [
        "df['Date']"
      ],
      "metadata": {
        "colab": {
          "base_uri": "https://localhost:8080/"
        },
        "id": "21ax60ZgspsA",
        "outputId": "2fbb1aac-9808-4df5-e3ca-cabc0b74120a"
      },
      "execution_count": null,
      "outputs": [
        {
          "output_type": "execute_result",
          "data": {
            "text/plain": [
              "0      2022-10-01\n",
              "1      2022-09-30\n",
              "2      2022-09-29\n",
              "3      2022-09-28\n",
              "4      2022-09-27\n",
              "          ...    \n",
              "3191   2014-01-05\n",
              "3192   2014-01-04\n",
              "3193   2014-01-03\n",
              "3194   2014-01-02\n",
              "3195   2014-01-01\n",
              "Name: Date, Length: 3196, dtype: datetime64[ns]"
            ]
          },
          "metadata": {},
          "execution_count": 10
        }
      ]
    },
    {
      "cell_type": "code",
      "source": [
        "df.head(20)"
      ],
      "metadata": {
        "colab": {
          "base_uri": "https://localhost:8080/",
          "height": 677
        },
        "id": "gH1t69Nee9Cv",
        "outputId": "00ebb490-8a01-4cf6-ad83-77589dc1af8a"
      },
      "execution_count": null,
      "outputs": [
        {
          "output_type": "execute_result",
          "data": {
            "text/plain": [
              "         Date          Open          High           Low         Close  \\\n",
              "0  2022-10-01  19431.104946  19471.154867  19231.081874  19312.094732   \n",
              "1  2022-09-30  19573.431421  20109.850301  19265.662400  19431.789447   \n",
              "2  2022-09-29  19427.780191  19589.266211  18924.353453  19573.050314   \n",
              "3  2022-09-28  19104.620790  19688.344373  18553.297358  19426.721332   \n",
              "4  2022-09-27  19221.840713  20338.455461  18915.668722  19110.546551   \n",
              "5  2022-09-26  18803.900633  19274.873498  18721.285851  19222.672184   \n",
              "6  2022-09-25  18936.311515  19134.733194  18696.468304  18802.097976   \n",
              "7  2022-09-24  19296.990704  19310.197608  18861.973999  18937.011176   \n",
              "8  2022-09-23  19412.399925  19464.672348  18617.553010  19297.637840   \n",
              "9  2022-09-22  18534.649595  19456.910901  18415.591497  19413.551621   \n",
              "10 2022-09-21  18891.282890  19674.630331  18290.315188  18547.399760   \n",
              "11 2022-09-20  19545.591275  19602.456746  18813.455011  18890.789096   \n",
              "12 2022-09-19  19418.571422  19639.479733  18390.318710  19544.129250   \n",
              "13 2022-09-18  20127.233948  20127.233948  19387.491348  19419.506191   \n",
              "14 2022-09-17  19777.034028  20162.532022  19777.034028  20127.576657   \n",
              "15 2022-09-16  19704.005441  19870.629766  19400.075449  19772.584206   \n",
              "16 2022-09-15  20242.289908  20318.166392  19636.733774  19701.209963   \n",
              "17 2022-09-14  20184.555325  20467.201433  19793.396718  20241.089802   \n",
              "18 2022-09-13  22371.480640  22673.819766  20062.670699  20296.707814   \n",
              "19 2022-09-12  21770.148133  22439.181009  21603.895779  22370.448650   \n",
              "\n",
              "          Volume    Market Cap  \n",
              "0   1.871954e+10  3.701427e+11  \n",
              "1   4.397525e+10  3.724147e+11  \n",
              "2   4.103784e+10  3.751009e+11  \n",
              "3   5.307130e+10  3.722796e+11  \n",
              "4   5.857144e+10  3.662027e+11  \n",
              "5   4.414880e+10  3.683359e+11  \n",
              "6   2.335997e+10  3.602593e+11  \n",
              "7   2.614964e+10  3.628265e+11  \n",
              "8   3.889608e+10  3.697190e+11  \n",
              "9   4.113577e+10  3.719240e+11  \n",
              "10  4.636379e+10  3.553149e+11  \n",
              "11  3.679135e+10  3.618764e+11  \n",
              "12  4.017700e+10  3.743735e+11  \n",
              "13  3.125478e+10  3.719704e+11  \n",
              "14  2.495745e+10  3.855133e+11  \n",
              "15  3.012336e+10  3.786932e+11  \n",
              "16  3.638901e+10  3.773113e+11  \n",
              "17  3.787238e+10  3.876319e+11  \n",
              "18  5.109112e+10  3.886823e+11  \n",
              "19  5.021209e+10  4.283740e+11  "
            ],
            "text/html": [
              "\n",
              "  <div id=\"df-8d64dac8-6ecd-41d6-b9c2-773fb3d87704\">\n",
              "    <div class=\"colab-df-container\">\n",
              "      <div>\n",
              "<style scoped>\n",
              "    .dataframe tbody tr th:only-of-type {\n",
              "        vertical-align: middle;\n",
              "    }\n",
              "\n",
              "    .dataframe tbody tr th {\n",
              "        vertical-align: top;\n",
              "    }\n",
              "\n",
              "    .dataframe thead th {\n",
              "        text-align: right;\n",
              "    }\n",
              "</style>\n",
              "<table border=\"1\" class=\"dataframe\">\n",
              "  <thead>\n",
              "    <tr style=\"text-align: right;\">\n",
              "      <th></th>\n",
              "      <th>Date</th>\n",
              "      <th>Open</th>\n",
              "      <th>High</th>\n",
              "      <th>Low</th>\n",
              "      <th>Close</th>\n",
              "      <th>Volume</th>\n",
              "      <th>Market Cap</th>\n",
              "    </tr>\n",
              "  </thead>\n",
              "  <tbody>\n",
              "    <tr>\n",
              "      <th>0</th>\n",
              "      <td>2022-10-01</td>\n",
              "      <td>19431.104946</td>\n",
              "      <td>19471.154867</td>\n",
              "      <td>19231.081874</td>\n",
              "      <td>19312.094732</td>\n",
              "      <td>1.871954e+10</td>\n",
              "      <td>3.701427e+11</td>\n",
              "    </tr>\n",
              "    <tr>\n",
              "      <th>1</th>\n",
              "      <td>2022-09-30</td>\n",
              "      <td>19573.431421</td>\n",
              "      <td>20109.850301</td>\n",
              "      <td>19265.662400</td>\n",
              "      <td>19431.789447</td>\n",
              "      <td>4.397525e+10</td>\n",
              "      <td>3.724147e+11</td>\n",
              "    </tr>\n",
              "    <tr>\n",
              "      <th>2</th>\n",
              "      <td>2022-09-29</td>\n",
              "      <td>19427.780191</td>\n",
              "      <td>19589.266211</td>\n",
              "      <td>18924.353453</td>\n",
              "      <td>19573.050314</td>\n",
              "      <td>4.103784e+10</td>\n",
              "      <td>3.751009e+11</td>\n",
              "    </tr>\n",
              "    <tr>\n",
              "      <th>3</th>\n",
              "      <td>2022-09-28</td>\n",
              "      <td>19104.620790</td>\n",
              "      <td>19688.344373</td>\n",
              "      <td>18553.297358</td>\n",
              "      <td>19426.721332</td>\n",
              "      <td>5.307130e+10</td>\n",
              "      <td>3.722796e+11</td>\n",
              "    </tr>\n",
              "    <tr>\n",
              "      <th>4</th>\n",
              "      <td>2022-09-27</td>\n",
              "      <td>19221.840713</td>\n",
              "      <td>20338.455461</td>\n",
              "      <td>18915.668722</td>\n",
              "      <td>19110.546551</td>\n",
              "      <td>5.857144e+10</td>\n",
              "      <td>3.662027e+11</td>\n",
              "    </tr>\n",
              "    <tr>\n",
              "      <th>5</th>\n",
              "      <td>2022-09-26</td>\n",
              "      <td>18803.900633</td>\n",
              "      <td>19274.873498</td>\n",
              "      <td>18721.285851</td>\n",
              "      <td>19222.672184</td>\n",
              "      <td>4.414880e+10</td>\n",
              "      <td>3.683359e+11</td>\n",
              "    </tr>\n",
              "    <tr>\n",
              "      <th>6</th>\n",
              "      <td>2022-09-25</td>\n",
              "      <td>18936.311515</td>\n",
              "      <td>19134.733194</td>\n",
              "      <td>18696.468304</td>\n",
              "      <td>18802.097976</td>\n",
              "      <td>2.335997e+10</td>\n",
              "      <td>3.602593e+11</td>\n",
              "    </tr>\n",
              "    <tr>\n",
              "      <th>7</th>\n",
              "      <td>2022-09-24</td>\n",
              "      <td>19296.990704</td>\n",
              "      <td>19310.197608</td>\n",
              "      <td>18861.973999</td>\n",
              "      <td>18937.011176</td>\n",
              "      <td>2.614964e+10</td>\n",
              "      <td>3.628265e+11</td>\n",
              "    </tr>\n",
              "    <tr>\n",
              "      <th>8</th>\n",
              "      <td>2022-09-23</td>\n",
              "      <td>19412.399925</td>\n",
              "      <td>19464.672348</td>\n",
              "      <td>18617.553010</td>\n",
              "      <td>19297.637840</td>\n",
              "      <td>3.889608e+10</td>\n",
              "      <td>3.697190e+11</td>\n",
              "    </tr>\n",
              "    <tr>\n",
              "      <th>9</th>\n",
              "      <td>2022-09-22</td>\n",
              "      <td>18534.649595</td>\n",
              "      <td>19456.910901</td>\n",
              "      <td>18415.591497</td>\n",
              "      <td>19413.551621</td>\n",
              "      <td>4.113577e+10</td>\n",
              "      <td>3.719240e+11</td>\n",
              "    </tr>\n",
              "    <tr>\n",
              "      <th>10</th>\n",
              "      <td>2022-09-21</td>\n",
              "      <td>18891.282890</td>\n",
              "      <td>19674.630331</td>\n",
              "      <td>18290.315188</td>\n",
              "      <td>18547.399760</td>\n",
              "      <td>4.636379e+10</td>\n",
              "      <td>3.553149e+11</td>\n",
              "    </tr>\n",
              "    <tr>\n",
              "      <th>11</th>\n",
              "      <td>2022-09-20</td>\n",
              "      <td>19545.591275</td>\n",
              "      <td>19602.456746</td>\n",
              "      <td>18813.455011</td>\n",
              "      <td>18890.789096</td>\n",
              "      <td>3.679135e+10</td>\n",
              "      <td>3.618764e+11</td>\n",
              "    </tr>\n",
              "    <tr>\n",
              "      <th>12</th>\n",
              "      <td>2022-09-19</td>\n",
              "      <td>19418.571422</td>\n",
              "      <td>19639.479733</td>\n",
              "      <td>18390.318710</td>\n",
              "      <td>19544.129250</td>\n",
              "      <td>4.017700e+10</td>\n",
              "      <td>3.743735e+11</td>\n",
              "    </tr>\n",
              "    <tr>\n",
              "      <th>13</th>\n",
              "      <td>2022-09-18</td>\n",
              "      <td>20127.233948</td>\n",
              "      <td>20127.233948</td>\n",
              "      <td>19387.491348</td>\n",
              "      <td>19419.506191</td>\n",
              "      <td>3.125478e+10</td>\n",
              "      <td>3.719704e+11</td>\n",
              "    </tr>\n",
              "    <tr>\n",
              "      <th>14</th>\n",
              "      <td>2022-09-17</td>\n",
              "      <td>19777.034028</td>\n",
              "      <td>20162.532022</td>\n",
              "      <td>19777.034028</td>\n",
              "      <td>20127.576657</td>\n",
              "      <td>2.495745e+10</td>\n",
              "      <td>3.855133e+11</td>\n",
              "    </tr>\n",
              "    <tr>\n",
              "      <th>15</th>\n",
              "      <td>2022-09-16</td>\n",
              "      <td>19704.005441</td>\n",
              "      <td>19870.629766</td>\n",
              "      <td>19400.075449</td>\n",
              "      <td>19772.584206</td>\n",
              "      <td>3.012336e+10</td>\n",
              "      <td>3.786932e+11</td>\n",
              "    </tr>\n",
              "    <tr>\n",
              "      <th>16</th>\n",
              "      <td>2022-09-15</td>\n",
              "      <td>20242.289908</td>\n",
              "      <td>20318.166392</td>\n",
              "      <td>19636.733774</td>\n",
              "      <td>19701.209963</td>\n",
              "      <td>3.638901e+10</td>\n",
              "      <td>3.773113e+11</td>\n",
              "    </tr>\n",
              "    <tr>\n",
              "      <th>17</th>\n",
              "      <td>2022-09-14</td>\n",
              "      <td>20184.555325</td>\n",
              "      <td>20467.201433</td>\n",
              "      <td>19793.396718</td>\n",
              "      <td>20241.089802</td>\n",
              "      <td>3.787238e+10</td>\n",
              "      <td>3.876319e+11</td>\n",
              "    </tr>\n",
              "    <tr>\n",
              "      <th>18</th>\n",
              "      <td>2022-09-13</td>\n",
              "      <td>22371.480640</td>\n",
              "      <td>22673.819766</td>\n",
              "      <td>20062.670699</td>\n",
              "      <td>20296.707814</td>\n",
              "      <td>5.109112e+10</td>\n",
              "      <td>3.886823e+11</td>\n",
              "    </tr>\n",
              "    <tr>\n",
              "      <th>19</th>\n",
              "      <td>2022-09-12</td>\n",
              "      <td>21770.148133</td>\n",
              "      <td>22439.181009</td>\n",
              "      <td>21603.895779</td>\n",
              "      <td>22370.448650</td>\n",
              "      <td>5.021209e+10</td>\n",
              "      <td>4.283740e+11</td>\n",
              "    </tr>\n",
              "  </tbody>\n",
              "</table>\n",
              "</div>\n",
              "      <button class=\"colab-df-convert\" onclick=\"convertToInteractive('df-8d64dac8-6ecd-41d6-b9c2-773fb3d87704')\"\n",
              "              title=\"Convert this dataframe to an interactive table.\"\n",
              "              style=\"display:none;\">\n",
              "        \n",
              "  <svg xmlns=\"http://www.w3.org/2000/svg\" height=\"24px\"viewBox=\"0 0 24 24\"\n",
              "       width=\"24px\">\n",
              "    <path d=\"M0 0h24v24H0V0z\" fill=\"none\"/>\n",
              "    <path d=\"M18.56 5.44l.94 2.06.94-2.06 2.06-.94-2.06-.94-.94-2.06-.94 2.06-2.06.94zm-11 1L8.5 8.5l.94-2.06 2.06-.94-2.06-.94L8.5 2.5l-.94 2.06-2.06.94zm10 10l.94 2.06.94-2.06 2.06-.94-2.06-.94-.94-2.06-.94 2.06-2.06.94z\"/><path d=\"M17.41 7.96l-1.37-1.37c-.4-.4-.92-.59-1.43-.59-.52 0-1.04.2-1.43.59L10.3 9.45l-7.72 7.72c-.78.78-.78 2.05 0 2.83L4 21.41c.39.39.9.59 1.41.59.51 0 1.02-.2 1.41-.59l7.78-7.78 2.81-2.81c.8-.78.8-2.07 0-2.86zM5.41 20L4 18.59l7.72-7.72 1.47 1.35L5.41 20z\"/>\n",
              "  </svg>\n",
              "      </button>\n",
              "      \n",
              "  <style>\n",
              "    .colab-df-container {\n",
              "      display:flex;\n",
              "      flex-wrap:wrap;\n",
              "      gap: 12px;\n",
              "    }\n",
              "\n",
              "    .colab-df-convert {\n",
              "      background-color: #E8F0FE;\n",
              "      border: none;\n",
              "      border-radius: 50%;\n",
              "      cursor: pointer;\n",
              "      display: none;\n",
              "      fill: #1967D2;\n",
              "      height: 32px;\n",
              "      padding: 0 0 0 0;\n",
              "      width: 32px;\n",
              "    }\n",
              "\n",
              "    .colab-df-convert:hover {\n",
              "      background-color: #E2EBFA;\n",
              "      box-shadow: 0px 1px 2px rgba(60, 64, 67, 0.3), 0px 1px 3px 1px rgba(60, 64, 67, 0.15);\n",
              "      fill: #174EA6;\n",
              "    }\n",
              "\n",
              "    [theme=dark] .colab-df-convert {\n",
              "      background-color: #3B4455;\n",
              "      fill: #D2E3FC;\n",
              "    }\n",
              "\n",
              "    [theme=dark] .colab-df-convert:hover {\n",
              "      background-color: #434B5C;\n",
              "      box-shadow: 0px 1px 3px 1px rgba(0, 0, 0, 0.15);\n",
              "      filter: drop-shadow(0px 1px 2px rgba(0, 0, 0, 0.3));\n",
              "      fill: #FFFFFF;\n",
              "    }\n",
              "  </style>\n",
              "\n",
              "      <script>\n",
              "        const buttonEl =\n",
              "          document.querySelector('#df-8d64dac8-6ecd-41d6-b9c2-773fb3d87704 button.colab-df-convert');\n",
              "        buttonEl.style.display =\n",
              "          google.colab.kernel.accessAllowed ? 'block' : 'none';\n",
              "\n",
              "        async function convertToInteractive(key) {\n",
              "          const element = document.querySelector('#df-8d64dac8-6ecd-41d6-b9c2-773fb3d87704');\n",
              "          const dataTable =\n",
              "            await google.colab.kernel.invokeFunction('convertToInteractive',\n",
              "                                                     [key], {});\n",
              "          if (!dataTable) return;\n",
              "\n",
              "          const docLinkHtml = 'Like what you see? Visit the ' +\n",
              "            '<a target=\"_blank\" href=https://colab.research.google.com/notebooks/data_table.ipynb>data table notebook</a>'\n",
              "            + ' to learn more about interactive tables.';\n",
              "          element.innerHTML = '';\n",
              "          dataTable['output_type'] = 'display_data';\n",
              "          await google.colab.output.renderOutput(dataTable, element);\n",
              "          const docLink = document.createElement('div');\n",
              "          docLink.innerHTML = docLinkHtml;\n",
              "          element.appendChild(docLink);\n",
              "        }\n",
              "      </script>\n",
              "    </div>\n",
              "  </div>\n",
              "  "
            ]
          },
          "metadata": {},
          "execution_count": 11
        }
      ]
    },
    {
      "cell_type": "markdown",
      "source": [
        "ARIMA MODEL"
      ],
      "metadata": {
        "id": "gmaWyakxf7qw"
      }
    },
    {
      "cell_type": "code",
      "source": [
        "df.astype"
      ],
      "metadata": {
        "colab": {
          "base_uri": "https://localhost:8080/"
        },
        "id": "ksXCBmf4Qy_V",
        "outputId": "498034f3-e8fa-46da-dd22-fcb32b8077ed"
      },
      "execution_count": null,
      "outputs": [
        {
          "output_type": "execute_result",
          "data": {
            "text/plain": [
              "<bound method NDFrame.astype of            Date          Open          High           Low         Close  \\\n",
              "0    2022-10-01  19431.104946  19471.154867  19231.081874  19312.094732   \n",
              "1    2022-09-30  19573.431421  20109.850301  19265.662400  19431.789447   \n",
              "2    2022-09-29  19427.780191  19589.266211  18924.353453  19573.050314   \n",
              "3    2022-09-28  19104.620790  19688.344373  18553.297358  19426.721332   \n",
              "4    2022-09-27  19221.840713  20338.455461  18915.668722  19110.546551   \n",
              "...         ...           ...           ...           ...           ...   \n",
              "3191 2014-01-05    858.549988    952.400024    854.520020    933.530029   \n",
              "3192 2014-01-04    823.270020    859.510010    801.669983    859.510010   \n",
              "3193 2014-01-03    802.849976    834.150024    789.119995    818.719971   \n",
              "3194 2014-01-02    773.440002    820.309998    767.210022    802.390015   \n",
              "3195 2014-01-01    754.969971    775.349976    754.969971    771.400024   \n",
              "\n",
              "            Volume    Market Cap  \n",
              "0     1.871954e+10  3.701427e+11  \n",
              "1     4.397525e+10  3.724147e+11  \n",
              "2     4.103784e+10  3.751009e+11  \n",
              "3     5.307130e+10  3.722796e+11  \n",
              "4     5.857144e+10  3.662027e+11  \n",
              "...            ...           ...  \n",
              "3191  7.289850e+07  1.137966e+10  \n",
              "3192  3.800500e+07  1.047736e+10  \n",
              "3193  3.781010e+07  9.980135e+09  \n",
              "3194  3.848950e+07  9.781074e+09  \n",
              "3195  2.248940e+07  9.403308e+09  \n",
              "\n",
              "[3196 rows x 7 columns]>"
            ]
          },
          "metadata": {},
          "execution_count": 12
        }
      ]
    },
    {
      "cell_type": "code",
      "source": [
        "#******************** ARIMA SECTION ********************\n",
        "def ARIMA_ALGO(df):\n",
        "  # def parser(x):\n",
        "  #           return datetime.strptime(x, '%Y-%m-%d')\n",
        "  def arima_model(train, test):\n",
        "            history = [x for x in train]\n",
        "            predictions = list()\n",
        "            for t in range(len(test)):\n",
        "                model = ARIMA(history, order=(6,1 ,0))\n",
        "                model_fit = model.fit()\n",
        "                output = model_fit.forecast()\n",
        "                yhat = output[0]\n",
        "                #print(yhat)\n",
        "                predictions.append(yhat)\n",
        "                obs = test[t]\n",
        "                history.append(obs)\n",
        "            return predictions\n",
        "  quantity = df['Close'].tolist()\n",
        "  # print(quantity[0])\n",
        "  # print(len(quantity))\n",
        "  size = int(len(quantity) * 0.80)\n",
        "  train, test = quantity[0:size], quantity[size:len(quantity)]\n",
        "  # print(train)\n",
        "  # print(test)\n",
        "  #fit in model\n",
        "  predictions = arima_model(train, test)\n",
        "  #plot graph\n",
        "  test_day = [t\n",
        "           for t in range(len(test))]\n",
        "\n",
        "  fig = plt.figure(figsize=(9,8),dpi=65)\n",
        "  plt.plot(test,label='Actual Price')\n",
        "  plt.plot(predictions,label='Predicted Price')\n",
        "  plt.title('Closing Price Prediction by ARIMA')\n",
        "  plt.legend(loc='best')\n",
        "  # plt.savefig('static/ARIMA.png')\n",
        "  # plt.close(fig)\n",
        "  print()\n",
        "  print(\"##############################################################################\")\n",
        "  arima_pred=predictions[-2]\n",
        "  print(\"Tomorrow's Closing Price Prediction by ARIMA:\",arima_pred)\n",
        "  #rmse calculation\n",
        "  error_arima = math.sqrt(mean_squared_error(test, predictions))\n",
        "  print(\"ARIMA RMSE:\",error_arima)\n",
        "  print(\"##############################################################################\")\n",
        "  return arima_pred, error_arima\n",
        "\n"
      ],
      "metadata": {
        "id": "Z4ErTeIWMLKB"
      },
      "execution_count": null,
      "outputs": []
    },
    {
      "cell_type": "code",
      "source": [
        "arima_pred, error_arima=ARIMA_ALGO(df)\n",
        "print(arima_pred)"
      ],
      "metadata": {
        "id": "5MX5-Nz-QZZv",
        "colab": {
          "base_uri": "https://localhost:8080/",
          "height": 571
        },
        "outputId": "1b59b4ff-1a5e-4bb0-f86f-d928996238ae"
      },
      "execution_count": null,
      "outputs": [
        {
          "output_type": "stream",
          "name": "stdout",
          "text": [
            "\n",
            "##############################################################################\n",
            "Tomorrow's Closing Price Prediction by ARIMA: 822.9634590801202\n",
            "ARIMA RMSE: 17.896731599768113\n",
            "##############################################################################\n",
            "822.9634590801202\n"
          ]
        },
        {
          "output_type": "display_data",
          "data": {
            "text/plain": [
              "<Figure size 585x520 with 1 Axes>"
            ],
            "image/png": "[encoded data removed]"
          },
          "metadata": {}
        }
      ]
    },
    {
      "cell_type": "code",
      "source": [
        "    #************* LSTM SECTION **********************\n",
        "\n",
        "    def LSTM_ALGO(df):\n",
        "        #Split data into training set and test set\n",
        "        dataset_train=df.iloc[0:int(0.8*len(df)),:]\n",
        "        dataset_test=df.iloc[int(0.8*len(df)):,:]\n",
        "        ############# NOTE #################\n",
        "        #TO PREDICT STOCK PRICES OF NEXT N DAYS, STORE PREVIOUS N DAYS IN MEMORY WHILE TRAINING\n",
        "        # HERE N=7\n",
        "        ###dataset_train=pd.read_csv('Google_Stock_Price_Train.csv')\n",
        "        training_set=df.iloc[:,4:5].values# 1:2, to store as numpy array else Series obj will be stored\n",
        "        #select cols using above manner to select as float64 type, view in var explorer\n",
        "\n",
        "        #Feature Scaling\n",
        "        from sklearn.preprocessing import MinMaxScaler\n",
        "        sc=MinMaxScaler(feature_range=(0,1))#Scaled values btween 0,1\n",
        "        training_set_scaled=sc.fit_transform(training_set)\n",
        "        #In scaling, fit_transform for training, transform for test\n",
        "\n",
        "        #Creating data stucture with 7 timesteps and 1 output.\n",
        "        #7 timesteps meaning storing trends from 7 days before current day to predict 1 next output\n",
        "        X_train=[]#memory with 7 days from day i\n",
        "        y_train=[]#day i\n",
        "        for i in range(7,len(training_set_scaled)):\n",
        "            X_train.append(training_set_scaled[i-7:i,0])\n",
        "            y_train.append(training_set_scaled[i,0])\n",
        "        #Convert list to numpy arrays\n",
        "        X_train=np.array(X_train)\n",
        "        y_train=np.array(y_train)\n",
        "        X_forecast=np.array(X_train[-1,1:])\n",
        "        X_forecast=np.append(X_forecast,y_train[-1])\n",
        "        #Reshaping: Adding 3rd dimension\n",
        "        X_train=np.reshape(X_train, (X_train.shape[0],X_train.shape[1],1))#.shape 0=row,1=col\n",
        "        X_forecast=np.reshape(X_forecast, (1,X_forecast.shape[0],1))\n",
        "        #For X_train=np.reshape(no. of rows/samples, timesteps, no. of cols/features)\n",
        "\n",
        "        #Building RNN\n",
        "        from keras.models import Sequential\n",
        "        from keras.layers import Dense\n",
        "        from keras.layers import Dropout\n",
        "        from keras.layers import LSTM\n",
        "\n",
        "        #Initialise RNN\n",
        "        regressor=Sequential()\n",
        "\n",
        "        #Add first LSTM layer\n",
        "        regressor.add(LSTM(units=50,return_sequences=True,input_shape=(X_train.shape[1],1)))\n",
        "        #units=no. of neurons in layer\n",
        "        #input_shape=(timesteps,no. of cols/features)\n",
        "        #return_seq=True for sending recc memory. For last layer, retrun_seq=False since end of the line\n",
        "        regressor.add(Dropout(0.1))\n",
        "\n",
        "        #Add 2nd LSTM layer\n",
        "        regressor.add(LSTM(units=50,return_sequences=True))\n",
        "        regressor.add(Dropout(0.1))\n",
        "\n",
        "        #Add 3rd LSTM layer\n",
        "        regressor.add(LSTM(units=50,return_sequences=True))\n",
        "        regressor.add(Dropout(0.1))\n",
        "\n",
        "        #Add 4th LSTM layer\n",
        "        regressor.add(LSTM(units=50))\n",
        "        regressor.add(Dropout(0.1))\n",
        "\n",
        "        #Add o/p layer\n",
        "        regressor.add(Dense(units=1))\n",
        "\n",
        "        #Compile\n",
        "        regressor.compile(optimizer='adam',loss='mean_squared_error')\n",
        "\n",
        "        #Training\n",
        "        regressor.fit(X_train,y_train,epochs=50,batch_size=32 )\n",
        "        #For lstm, batch_size=power of 2\n",
        "\n",
        "        #Testing\n",
        "        ###dataset_test=pd.read_csv('Google_Stock_Price_Test.csv')\n",
        "        real_stock_price=dataset_test.iloc[:,4:5].values\n",
        "\n",
        "        #To predict, we need stock prices of 7 days before the test set\n",
        "        #So combine train and test set to get the entire data set\n",
        "        dataset_total=pd.concat((dataset_train['Close'],dataset_test['Close']),axis=0)\n",
        "        testing_set=dataset_total[ len(dataset_total) -len(dataset_test) -7: ].values\n",
        "        testing_set=testing_set.reshape(-1,1)\n",
        "        #-1=till last row, (-1,1)=>(80,1). otherwise only (80,0)\n",
        "\n",
        "        #Feature scaling\n",
        "        testing_set=sc.transform(testing_set)\n",
        "\n",
        "        #Create data structure\n",
        "        X_test=[]\n",
        "        for i in range(7,len(testing_set)):\n",
        "            X_test.append(testing_set[i-7:i,0])\n",
        "            #Convert list to numpy arrays\n",
        "        X_test=np.array(X_test)\n",
        "\n",
        "        #Reshaping: Adding 3rd dimension\n",
        "        X_test=np.reshape(X_test, (X_test.shape[0],X_test.shape[1],1))\n",
        "\n",
        "        #Testing Prediction\n",
        "        predicted_stock_price=regressor.predict(X_test)\n",
        "\n",
        "        #Getting original prices back from scaled values\n",
        "        predicted_stock_price=sc.inverse_transform(predicted_stock_price)\n",
        "        fig = plt.figure(figsize=(7.2,4.8),dpi=65)\n",
        "        plt.plot(real_stock_price,label='Actual Price')\n",
        "        plt.plot(predicted_stock_price,label='Predicted Price')\n",
        "\n",
        "        plt.legend(loc=4)\n",
        "        # plt.savefig('static/LSTM.png')\n",
        "        # plt.close(fig)\n",
        "\n",
        "\n",
        "        error_lstm = math.sqrt(mean_squared_error(real_stock_price, predicted_stock_price))\n",
        "\n",
        "\n",
        "        #Forecasting Prediction\n",
        "        forecasted_stock_price=regressor.predict(X_forecast)\n",
        "\n",
        "        #Getting original prices back from scaled values\n",
        "        forecasted_stock_price=sc.inverse_transform(forecasted_stock_price)\n",
        "\n",
        "        lstm_pred=forecasted_stock_price[0,0]\n",
        "        print()\n",
        "        print(\"##############################################################################\")\n",
        "        print(\"Tomorrow's  Closing Price Prediction by LSTM: \",lstm_pred)\n",
        "        print(\"LSTM RMSE:\",error_lstm)\n",
        "        print(\"##############################################################################\")\n",
        "        return lstm_pred,error_lstm"
      ],
      "metadata": {
        "id": "K81rLua5cvo9"
      },
      "execution_count": null,
      "outputs": []
    },
    {
      "cell_type": "code",
      "source": [
        "lstm_pred, error_lstm=LSTM_ALGO(df)"
      ],
      "metadata": {
        "colab": {
          "base_uri": "https://localhost:8080/",
          "height": 1000
        },
        "id": "edNSG7zoQ-s8",
        "outputId": "5f7b5321-33d5-480e-f566-72a130fe0ca4"
      },
      "execution_count": null,
      "outputs": [
        {
          "output_type": "stream",
          "name": "stdout",
          "text": [
            "Epoch 1/50\n",
            "100/100 [==============================] - 11s 19ms/step - loss: 0.0092\n",
            "Epoch 2/50\n",
            "100/100 [==============================] - 2s 20ms/step - loss: 0.0013\n",
            "Epoch 3/50\n",
            "100/100 [==============================] - 3s 31ms/step - loss: 0.0015\n",
            "Epoch 4/50\n",
            "100/100 [==============================] - 2s 25ms/step - loss: 0.0011\n",
            "Epoch 5/50\n",
            "100/100 [==============================] - 2s 20ms/step - loss: 0.0012\n",
            "Epoch 6/50\n",
            "100/100 [==============================] - 2s 22ms/step - loss: 0.0011\n",
            "Epoch 7/50\n",
            "100/100 [==============================] - 2s 20ms/step - loss: 9.7011e-04\n",
            "Epoch 8/50\n",
            "100/100 [==============================] - 2s 20ms/step - loss: 9.5579e-04\n",
            "Epoch 9/50\n",
            "100/100 [==============================] - 3s 33ms/step - loss: 0.0010\n",
            "Epoch 10/50\n",
            "100/100 [==============================] - 2s 20ms/step - loss: 0.0010\n",
            "Epoch 11/50\n",
            "100/100 [==============================] - 2s 21ms/step - loss: 0.0010\n",
            "Epoch 12/50\n",
            "100/100 [==============================] - 2s 21ms/step - loss: 0.0010\n",
            "Epoch 13/50\n",
            "100/100 [==============================] - 2s 20ms/step - loss: 9.2353e-04\n",
            "Epoch 14/50\n",
            "100/100 [==============================] - 2s 21ms/step - loss: 9.7722e-04\n",
            "Epoch 15/50\n",
            "100/100 [==============================] - 3s 30ms/step - loss: 0.0010\n",
            "Epoch 16/50\n",
            "100/100 [==============================] - 2s 20ms/step - loss: 0.0011\n",
            "Epoch 17/50\n",
            "100/100 [==============================] - 2s 22ms/step - loss: 9.4976e-04\n",
            "Epoch 18/50\n",
            "100/100 [==============================] - 2s 20ms/step - loss: 9.3937e-04\n",
            "Epoch 19/50\n",
            "100/100 [==============================] - 2s 21ms/step - loss: 8.2804e-04\n",
            "Epoch 20/50\n",
            "100/100 [==============================] - 3s 25ms/step - loss: 9.6436e-04\n",
            "Epoch 21/50\n",
            "100/100 [==============================] - 3s 28ms/step - loss: 8.9597e-04\n",
            "Epoch 22/50\n",
            "100/100 [==============================] - 2s 21ms/step - loss: 8.5066e-04\n",
            "Epoch 23/50\n",
            "100/100 [==============================] - 2s 19ms/step - loss: 7.9553e-04\n",
            "Epoch 24/50\n",
            "100/100 [==============================] - 2s 20ms/step - loss: 8.1810e-04\n",
            "Epoch 25/50\n",
            "100/100 [==============================] - 2s 21ms/step - loss: 8.6248e-04\n",
            "Epoch 26/50\n",
            "100/100 [==============================] - 3s 28ms/step - loss: 7.6047e-04\n",
            "Epoch 27/50\n",
            "100/100 [==============================] - 2s 23ms/step - loss: 8.0232e-04\n",
            "Epoch 28/50\n",
            "100/100 [==============================] - 2s 21ms/step - loss: 7.9918e-04\n",
            "Epoch 29/50\n",
            "100/100 [==============================] - 2s 20ms/step - loss: 7.2667e-04\n",
            "Epoch 30/50\n",
            "100/100 [==============================] - 2s 19ms/step - loss: 8.1026e-04\n",
            "Epoch 31/50\n",
            "100/100 [==============================] - 2s 20ms/step - loss: 7.2677e-04\n",
            "Epoch 32/50\n",
            "100/100 [==============================] - 3s 30ms/step - loss: 7.5347e-04\n",
            "Epoch 33/50\n",
            "100/100 [==============================] - 2s 23ms/step - loss: 6.9812e-04\n",
            "Epoch 34/50\n",
            "100/100 [==============================] - 2s 21ms/step - loss: 8.0985e-04\n",
            "Epoch 35/50\n",
            "100/100 [==============================] - 2s 19ms/step - loss: 6.3138e-04\n",
            "Epoch 36/50\n",
            "100/100 [==============================] - 2s 20ms/step - loss: 6.1644e-04\n",
            "Epoch 37/50\n",
            "100/100 [==============================] - 2s 21ms/step - loss: 6.3057e-04\n",
            "Epoch 38/50\n",
            "100/100 [==============================] - 3s 31ms/step - loss: 6.1981e-04\n",
            "Epoch 39/50\n",
            "100/100 [==============================] - 2s 20ms/step - loss: 5.8923e-04\n",
            "Epoch 40/50\n",
            "100/100 [==============================] - 2s 20ms/step - loss: 6.3055e-04\n",
            "Epoch 41/50\n",
            "100/100 [==============================] - 2s 20ms/step - loss: 5.2185e-04\n",
            "Epoch 42/50\n",
            "100/100 [==============================] - 2s 20ms/step - loss: 6.0904e-04\n",
            "Epoch 43/50\n",
            "100/100 [==============================] - 2s 22ms/step - loss: 6.3629e-04\n",
            "Epoch 44/50\n",
            "100/100 [==============================] - 3s 31ms/step - loss: 5.7860e-04\n",
            "Epoch 45/50\n",
            "100/100 [==============================] - 2s 20ms/step - loss: 5.5927e-04\n",
            "Epoch 46/50\n",
            "100/100 [==============================] - 2s 21ms/step - loss: 5.3837e-04\n",
            "Epoch 47/50\n",
            "100/100 [==============================] - 2s 20ms/step - loss: 6.4260e-04\n",
            "Epoch 48/50\n",
            "100/100 [==============================] - 2s 20ms/step - loss: 5.3968e-04\n",
            "Epoch 49/50\n",
            "100/100 [==============================] - 2s 25ms/step - loss: 5.3412e-04\n",
            "Epoch 50/50\n",
            "100/100 [==============================] - 3s 28ms/step - loss: 6.8193e-04\n",
            "20/20 [==============================] - 2s 6ms/step\n",
            "1/1 [==============================] - 2s 2s/step\n",
            "\n",
            "##############################################################################\n",
            "Tomorrow's  Closing Price Prediction by LSTM:  1153.7383\n",
            "LSTM RMSE: 342.1742081956155\n",
            "##############################################################################\n"
          ]
        },
        {
          "output_type": "display_data",
          "data": {
            "text/plain": [
              "<Figure size 468x312 with 1 Axes>"
            ],
            "image/png": "[encoded data removed]"
          },
          "metadata": {}
        }
      ]
    },
    {
      "cell_type": "code",
      "source": [
        "#***************** LINEAR REGRESSION SECTION ******************\n",
        "def LIN_REG_ALGO(df):\n",
        "        #No of days to be forcasted in future\n",
        "        forecast_out = int(7)\n",
        "        #Price after n days\n",
        "        df['Close after n days'] = df['Close'].shift(-forecast_out)\n",
        "        #New df with only relevant data\n",
        "        df_new=df[['Close','Close after n days']]\n",
        "\n",
        "        #Structure data for train, test & forecast\n",
        "        #lables of known data, discard last 35 rows\n",
        "        y =np.array(df_new.iloc[:-forecast_out,-1])\n",
        "        y=np.reshape(y, (-1,1))\n",
        "        #all cols of known data except lables, discard last 35 rows\n",
        "        X=np.array(df_new.iloc[:-forecast_out,0:-1])\n",
        "        #Unknown, X to be forecasted\n",
        "        X_to_be_forecasted=np.array(df_new.iloc[-forecast_out:,0:-1])\n",
        "\n",
        "        #Traning, testing to plot graphs, check accuracy\n",
        "        X_train=X[0:int(0.8*len(df)),:]\n",
        "        X_test=X[int(0.8*len(df)):,:]\n",
        "        y_train=y[0:int(0.8*len(df)),:]\n",
        "        y_test=y[int(0.8*len(df)):,:]\n",
        "\n",
        "        # Feature Scaling===Normalization\n",
        "        from sklearn.preprocessing import StandardScaler\n",
        "        sc = StandardScaler()\n",
        "        X_train = sc.fit_transform(X_train)\n",
        "        X_test = sc.transform(X_test)\n",
        "\n",
        "        X_to_be_forecasted=sc.transform(X_to_be_forecasted)\n",
        "\n",
        "        #Training\n",
        "        clf = LinearRegression(n_jobs=-1)\n",
        "        clf.fit(X_train, y_train)\n",
        "\n",
        "        #Testing\n",
        "        y_test_pred=clf.predict(X_test)\n",
        "        y_test_pred=y_test_pred*(1.04)\n",
        "        import matplotlib.pyplot as plt2\n",
        "        fig = plt2.figure(figsize=(7.2,4.8),dpi=65)\n",
        "        plt2.plot(y_test,label='Actual Price' )\n",
        "        plt2.plot(y_test_pred,label='Predicted Price')\n",
        "\n",
        "        plt2.legend(loc=4)\n",
        "        # plt2.savefig('static/LR.png')\n",
        "        # plt2.close(fig)\n",
        "\n",
        "        error_lr = math.sqrt(mean_squared_error(y_test, y_test_pred))\n",
        "\n",
        "\n",
        "        #Forecasting\n",
        "        forecast_set = clf.predict(X_to_be_forecasted)\n",
        "        forecast_set=forecast_set*(1.04)\n",
        "        mean=forecast_set.mean()\n",
        "        lr_pred=forecast_set[0,0]\n",
        "        print()\n",
        "        print(\"##############################################################################\")\n",
        "        print(\"Tomorrow's  Closing Price Prediction by Linear Regression: \",lr_pred)\n",
        "        print(\"Linear Regression RMSE:\",error_lr)\n",
        "        print(\"##############################################################################\")\n",
        "        return df, lr_pred, forecast_set, mean, error_lr"
      ],
      "metadata": {
        "id": "jSDdlB8556Ja"
      },
      "execution_count": null,
      "outputs": []
    },
    {
      "cell_type": "code",
      "source": [
        "df, lr_pred, forecast_set,mean,error_lr=LIN_REG_ALGO(df)"
      ],
      "metadata": {
        "colab": {
          "base_uri": "https://localhost:8080/",
          "height": 377
        },
        "id": "2Ldie7KnUN5D",
        "outputId": "cd9005ec-05ab-498f-b388-5600b94e8130"
      },
      "execution_count": null,
      "outputs": [
        {
          "output_type": "stream",
          "name": "stdout",
          "text": [
            "\n",
            "##############################################################################\n",
            "Tomorrow's  Closing Price Prediction by Linear Regression:  901.4473971747268\n",
            "Linear Regression RMSE: 89.53866179104529\n",
            "##############################################################################\n"
          ]
        },
        {
          "output_type": "display_data",
          "data": {
            "text/plain": [
              "<Figure size 468x312 with 1 Axes>"
            ],
            "image/png": "[encoded data removed]"
          },
          "metadata": {}
        }
      ]
    },
    {
      "cell_type": "code",
      "source": [
        "from google.colab import drive\n",
        "drive.mount('/content/drive')\n"
      ],
      "metadata": {
        "id": "J7QjEsYojjEY",
        "colab": {
          "base_uri": "https://localhost:8080/"
        },
        "outputId": "93575380-040f-4180-fbfa-309c31af66ba"
      },
      "execution_count": null,
      "outputs": [
        {
          "output_type": "stream",
          "name": "stdout",
          "text": [
            "Mounted at /content/drive\n"
          ]
        }
      ]
    },
    {
      "cell_type": "code",
      "source": [
        "csv_path=\"/content/drive/MyDrive/BTC-USD.csv\"\n"
      ],
      "metadata": {
        "id": "SDsMe6cCjwFq"
      },
      "execution_count": null,
      "outputs": []
    },
    {
      "cell_type": "code",
      "source": [
        "consumer_key= 'EapsMXCAlvSlvZVjm3dZZpqjq'\n",
        "consumer_secret= 'Gfo5UEsRcodvGIil8slJZjJfDEAlbGQxpnTunoIZheQWJ7SpZ8'\n",
        "\n",
        "access_token='1583900656741412864-gDlhDp4KCpezjuS19RILx4k9j4Poru'\n",
        "access_token_secret='d5uOtSGh9ibqw5FKrhWjdWWlknKmZZa224JrpiUdpAKvQ'\n",
        "\n",
        "bearer_token='AAAAAAAAAAAAAAAAAAAAAIZOigEAAAAAvfnlObOvMKFeGHh2YwqbqeWJJUI%3DAHKkiCbma67VI59srbrbthzW4qLsWWs4N8sUXkOQCk6EWFpqEw'\n",
        "\n"
      ],
      "metadata": {
        "id": "kijsQucJkk0x"
      },
      "execution_count": null,
      "outputs": []
    },
    {
      "cell_type": "code",
      "source": [
        "class Tweet(object):\n",
        "\n",
        "  def __init__(self, content, polarity):\n",
        "    self.content = content\n",
        "    self.polarity = polarity\n"
      ],
      "metadata": {
        "id": "S2Iy3a-p6OVX"
      },
      "execution_count": null,
      "outputs": []
    },
    {
      "cell_type": "code",
      "source": [
        "    #**************** SENTIMENT ANALYSIS **************************\n",
        "def retrieving_tweets_polarity(symbol):\n",
        "      stock_ticker_map = pd.read_csv(csv_path)\n",
        "      #number of positive tweets\n",
        "      pos=0\n",
        "      #number of negative tweet\n",
        "      neg=0\n",
        "      tweet_list = [] #List of tweets alongside polarity\n",
        "      global_polarity = 0 #Polarity of all tweets === Sum of polarities of individual tweets\n",
        "      tw_list=[] #List of tweets only => to be displayed on web page\n",
        "\n",
        "      def clean_tweet(tweet):\n",
        "        '''\n",
        "        Utility function to clean tweet text by removing links, special characters\n",
        "        using simple regex statements.\n",
        "        '''\n",
        "        return ' '.join(re.sub(\"(@[A-Za-z0-9]+)|([^0-9A-Za-z \\t])|(\\w+:\\/\\/\\S+)\", \" \", tweet).split())\n",
        "\n",
        "      ## to get the authentication done\n",
        "      try:\n",
        "            # create OAuthHandler object\n",
        "            ## set access token and secret\n",
        "            # create tweepy API object to fetch tweets\n",
        "            # api = tweepy.API(auth)\n",
        "            client = tweepy.Client('AAAAAAAAAAAAAAAAAAAAAIZOigEAAAAATO0%2BsPZrI2e%2FroyKb6JcbBLqa6M%3Dz1tFtAmsJwhwKa222qHMrd5LYou2mAVcmPKdqmZOh0wWBdfZaz')\n",
        "      except tweepy.TweepError as e:\n",
        "            print(\"Error: Authentication Failed\")\n",
        "\n",
        "      # call twitter api to fetch tweets\n",
        "      # fetched_tweets = api.search(\"BTC-USD\", 300)\n",
        "      try:\n",
        "        query = \"#BTC -is:retweet lang:en\"\n",
        "        tweets = client.search_recent_tweets(query=query, tweet_fields=['text'], max_results=100)\n",
        "        #print(tweets)\n",
        "      except tweepy.TweepError as e:\n",
        "        print(\"Could not get Tweets\")\n",
        "        print(e)\n",
        "\n",
        "      num_tweets=tweets.meta[\"result_count\"]\n",
        "\n",
        "      # parsing tweets one by one\n",
        "      for tweet in tweets.data:\n",
        "         try:\n",
        "           #print(tweet.text)\n",
        "           tw=clean_tweet(tweet.text)\n",
        "           blob=TextBlob(tw)\n",
        "           #print(blob)\n",
        "           polarity = 0 #Polarity of single individual tweet\n",
        "           for sentence in blob.sentences:\n",
        "             polarity += sentence.sentiment.polarity\n",
        "             if polarity>0:\n",
        "               pos=pos+1\n",
        "             if polarity<0:\n",
        "                neg=neg+1\n",
        "\n",
        "           global_polarity += polarity\n",
        "           tweet_list.append(Tweet(tw, polarity))\n",
        "         except Exception as e:\n",
        "           print(\"Could not parse Tweets\")\n",
        "           print(e)\n",
        "\n",
        "\n",
        "\n",
        "      if len(tweet_list) != 0:\n",
        "            global_polarity = global_polarity / len(tweet_list)\n",
        "      else:\n",
        "            global_polarity = global_polarity\n",
        "      neutral=num_tweets-pos-neg\n",
        "      if neutral<0:\n",
        "        neg=neg+neutral\n",
        "        neutral=20\n",
        "\n",
        "      print(\"##############################################################################\")\n",
        "      print(\"Positive Tweets :\",pos,\"Negative Tweets :\",neg,\"Neutral Tweets :\",neutral)\n",
        "      print(\"##############################################################################\")\n",
        "      labels=['Positive','Negative','Neutral']\n",
        "      sizes = [pos,neg,neutral]\n",
        "      explode = (0, 0, 0)\n",
        "      fig = plt.figure(figsize=(7.2,4.8),dpi=65)\n",
        "      fig1, ax1 = plt.subplots(figsize=(7.2,4.8),dpi=65)\n",
        "      ax1.pie(sizes, explode=explode, labels=labels, autopct='%1.1f%%', startangle=90)\n",
        "        # Equal aspect ratio ensures that pie is drawn as a circle\n",
        "      # ax1.axis('equal')\n",
        "      #   plt.tight_layout()\n",
        "      #   plt.savefig('static/SA.png')\n",
        "      #   plt.close(fig)\n",
        "      #   #plt.show()\n",
        "      if global_polarity>0:\n",
        "            print()\n",
        "            print(\"##############################################################################\")\n",
        "            print(\"Tweets Polarity: Overall Positive\")\n",
        "            print(\"##############################################################################\")\n",
        "            tw_pol=\"Overall Positive\"\n",
        "      else:\n",
        "            print()\n",
        "            print(\"##############################################################################\")\n",
        "            print(\"Tweets Polarity: Overall Negative\")\n",
        "            print(\"##############################################################################\")\n",
        "            tw_pol=\"Overall Negative\"\n",
        "      return global_polarity,tweet_list,tw_pol,pos,neg,neutral\n",
        "\n",
        "\n"
      ],
      "metadata": {
        "id": "LE_C7k2JkX6k"
      },
      "execution_count": null,
      "outputs": []
    },
    {
      "cell_type": "code",
      "source": [
        "polarity,tw_list,tw_pol,pos,neg,neutral=retrieving_tweets_polarity('btc')\n"
      ],
      "metadata": {
        "id": "PpWD7rAA3uKe",
        "colab": {
          "base_uri": "https://localhost:8080/",
          "height": 417
        },
        "outputId": "705285d4-cb8d-49a9-e057-8ecc04e0566e"
      },
      "execution_count": null,
      "outputs": [
        {
          "output_type": "stream",
          "name": "stdout",
          "text": [
            "##############################################################################\n",
            "Positive Tweets : 38 Negative Tweets : 10 Neutral Tweets : 52\n",
            "##############################################################################\n",
            "\n",
            "##############################################################################\n",
            "Tweets Polarity: Overall Positive\n",
            "##############################################################################\n"
          ]
        },
        {
          "output_type": "display_data",
          "data": {
            "text/plain": [
              "<Figure size 468x312 with 0 Axes>"
            ]
          },
          "metadata": {}
        },
        {
          "output_type": "display_data",
          "data": {
            "text/plain": [
              "<Figure size 468x312 with 1 Axes>"
            ],
            "image/png": "[encoded data removed]"
          },
          "metadata": {}
        }
      ]
    },
    {
      "cell_type": "code",
      "source": [
        " def recommending(df, global_polarity,today_crypto,mean):\n",
        "        if today_crypto.iloc[-1]['Close'] < mean:\n",
        "            if global_polarity > 0:\n",
        "                idea=\"RISE\"\n",
        "                decision=\"BUY\"\n",
        "                print()\n",
        "                print(\"##############################################################################\")\n",
        "                print(\"According to the ML Predictions and Sentiment Analysis of Tweets, a\",idea,\"in\",'btc',\"Bitcoin is expected => \",decision)\n",
        "            elif global_polarity <= 0:\n",
        "                idea=\"FALL\"\n",
        "                decision=\"SELL\"\n",
        "                print()\n",
        "                print(\"##############################################################################\")\n",
        "                print(\"According to the ML Predictions and Sentiment Analysis of Tweets, a\",idea,\"in\",'btc',\"Bitcoin is expected => \",decision)\n",
        "        else:\n",
        "            idea=\"FALL\"\n",
        "            decision=\"SELL\"\n",
        "            print()\n",
        "            print(\"##############################################################################\")\n",
        "            print(\"According to the ML Predictions and Sentiment Analysis of Tweets, a\",idea,\"in\",'btc',\"Bitcoin is expected => \",decision)\n",
        "        return idea, decision\n",
        "\n",
        "\n"
      ],
      "metadata": {
        "id": "Ap0nmltrlkXo"
      },
      "execution_count": null,
      "outputs": []
    },
    {
      "cell_type": "code",
      "source": [
        "arima_pred, error_arima=ARIMA_ALGO(df)"
      ],
      "metadata": {
        "id": "4VxDbu_L-txo",
        "colab": {
          "base_uri": "https://localhost:8080/"
        },
        "outputId": "a091fe9d-055e-4fd2-c60c-dfce93dd925f"
      },
      "execution_count": null,
      "outputs": [
        {
          "output_type": "stream",
          "name": "stdout",
          "text": [
            "\n",
            "##############################################################################\n",
            "Tomorrow's Closing Price Prediction by ARIMA: 822.9634590801202\n",
            "ARIMA RMSE: 17.896731599768113\n",
            "##############################################################################\n"
          ]
        },
        {
          "output_type": "display_data",
          "data": {
            "text/plain": [
              "<Figure size 585x520 with 1 Axes>"
            ],
            "image/png": "[encoded data removed]"
          },
          "metadata": {}
        }
      ]
    },
    {
      "cell_type": "code",
      "source": [
        "lstm_pred, error_lstm=LSTM_ALGO(df)"
      ],
      "metadata": {
        "id": "VhRVtpPSA6m-",
        "colab": {
          "base_uri": "https://localhost:8080/"
        },
        "outputId": "8c7ec914-d7e8-4911-a90c-848d20a70341"
      },
      "execution_count": null,
      "outputs": [
        {
          "output_type": "stream",
          "name": "stdout",
          "text": [
            "Epoch 1/50\n",
            "100/100 [==============================] - 12s 22ms/step - loss: 0.0112\n",
            "Epoch 2/50\n",
            "100/100 [==============================] - 2s 20ms/step - loss: 0.0012\n",
            "Epoch 3/50\n",
            "100/100 [==============================] - 2s 21ms/step - loss: 0.0012\n",
            "Epoch 4/50\n",
            "100/100 [==============================] - 2s 19ms/step - loss: 0.0011\n",
            "Epoch 5/50\n",
            "100/100 [==============================] - 3s 29ms/step - loss: 0.0011\n",
            "Epoch 6/50\n",
            "100/100 [==============================] - 3s 28ms/step - loss: 0.0011\n",
            "Epoch 7/50\n",
            "100/100 [==============================] - 2s 21ms/step - loss: 0.0012\n",
            "Epoch 8/50\n",
            "100/100 [==============================] - 2s 21ms/step - loss: 0.0010\n",
            "Epoch 9/50\n",
            "100/100 [==============================] - 2s 21ms/step - loss: 0.0011\n",
            "Epoch 10/50\n",
            "100/100 [==============================] - 2s 20ms/step - loss: 9.5516e-04\n",
            "Epoch 11/50\n",
            "100/100 [==============================] - 2s 25ms/step - loss: 9.6883e-04\n",
            "Epoch 12/50\n",
            "100/100 [==============================] - 3s 31ms/step - loss: 0.0010\n",
            "Epoch 13/50\n",
            "100/100 [==============================] - 2s 19ms/step - loss: 0.0010\n",
            "Epoch 14/50\n",
            "100/100 [==============================] - 2s 21ms/step - loss: 9.8864e-04\n",
            "Epoch 15/50\n",
            "100/100 [==============================] - 2s 21ms/step - loss: 9.8024e-04\n",
            "Epoch 16/50\n",
            "100/100 [==============================] - 2s 19ms/step - loss: 9.8060e-04\n",
            "Epoch 17/50\n",
            "100/100 [==============================] - 2s 21ms/step - loss: 9.7124e-04\n",
            "Epoch 18/50\n",
            "100/100 [==============================] - 3s 31ms/step - loss: 9.2144e-04\n",
            "Epoch 19/50\n",
            "100/100 [==============================] - 2s 25ms/step - loss: 9.2007e-04\n",
            "Epoch 20/50\n",
            "100/100 [==============================] - 2s 21ms/step - loss: 9.4799e-04\n",
            "Epoch 21/50\n",
            "100/100 [==============================] - 2s 20ms/step - loss: 8.6528e-04\n",
            "Epoch 22/50\n",
            "100/100 [==============================] - 2s 21ms/step - loss: 8.2566e-04\n",
            "Epoch 23/50\n",
            "100/100 [==============================] - 2s 20ms/step - loss: 8.6713e-04\n",
            "Epoch 24/50\n",
            "100/100 [==============================] - 3s 29ms/step - loss: 8.0837e-04\n",
            "Epoch 25/50\n",
            "100/100 [==============================] - 3s 28ms/step - loss: 8.4420e-04\n",
            "Epoch 26/50\n",
            "100/100 [==============================] - 2s 21ms/step - loss: 9.8987e-04\n",
            "Epoch 27/50\n",
            "100/100 [==============================] - 2s 19ms/step - loss: 7.7871e-04\n",
            "Epoch 28/50\n",
            "100/100 [==============================] - 2s 20ms/step - loss: 7.5279e-04\n",
            "Epoch 29/50\n",
            "100/100 [==============================] - 2s 21ms/step - loss: 8.0226e-04\n",
            "Epoch 30/50\n",
            "100/100 [==============================] - 2s 25ms/step - loss: 7.8088e-04\n",
            "Epoch 31/50\n",
            "100/100 [==============================] - 3s 33ms/step - loss: 8.0420e-04\n",
            "Epoch 32/50\n",
            "100/100 [==============================] - 2s 21ms/step - loss: 7.8965e-04\n",
            "Epoch 33/50\n",
            "100/100 [==============================] - 2s 21ms/step - loss: 7.5640e-04\n",
            "Epoch 34/50\n",
            "100/100 [==============================] - 3s 32ms/step - loss: 6.7639e-04\n",
            "Epoch 35/50\n",
            "100/100 [==============================] - 3s 26ms/step - loss: 7.7475e-04\n",
            "Epoch 36/50\n",
            "100/100 [==============================] - 3s 29ms/step - loss: 6.6810e-04\n",
            "Epoch 37/50\n",
            "100/100 [==============================] - 3s 27ms/step - loss: 6.9787e-04\n",
            "Epoch 38/50\n",
            "100/100 [==============================] - 2s 21ms/step - loss: 6.3146e-04\n",
            "Epoch 39/50\n",
            "100/100 [==============================] - 2s 20ms/step - loss: 7.6322e-04\n",
            "Epoch 40/50\n",
            "100/100 [==============================] - 2s 20ms/step - loss: 6.7014e-04\n",
            "Epoch 41/50\n",
            "100/100 [==============================] - 2s 19ms/step - loss: 6.2831e-04\n",
            "Epoch 42/50\n",
            "100/100 [==============================] - 3s 25ms/step - loss: 5.7844e-04\n",
            "Epoch 43/50\n",
            "100/100 [==============================] - 3s 32ms/step - loss: 6.2502e-04\n",
            "Epoch 44/50\n",
            "100/100 [==============================] - 2s 20ms/step - loss: 5.6873e-04\n",
            "Epoch 45/50\n",
            "100/100 [==============================] - 2s 20ms/step - loss: 5.7500e-04\n",
            "Epoch 46/50\n",
            "100/100 [==============================] - 2s 21ms/step - loss: 5.6874e-04\n",
            "Epoch 47/50\n",
            "100/100 [==============================] - 2s 20ms/step - loss: 5.3257e-04\n",
            "Epoch 48/50\n",
            "100/100 [==============================] - 2s 22ms/step - loss: 5.5835e-04\n",
            "Epoch 49/50\n",
            "100/100 [==============================] - 3s 32ms/step - loss: 6.0227e-04\n",
            "Epoch 50/50\n",
            "100/100 [==============================] - 2s 23ms/step - loss: 6.1463e-04\n",
            "20/20 [==============================] - 2s 5ms/step\n",
            "1/1 [==============================] - 2s 2s/step\n",
            "\n",
            "##############################################################################\n",
            "Tomorrow's  Closing Price Prediction by LSTM:  1204.6719\n",
            "LSTM RMSE: 377.41564546697964\n",
            "##############################################################################\n"
          ]
        },
        {
          "output_type": "display_data",
          "data": {
            "text/plain": [
              "<Figure size 468x312 with 1 Axes>"
            ],
            "image/png": "[encoded data removed]"
          },
          "metadata": {}
        }
      ]
    },
    {
      "cell_type": "code",
      "source": [
        "df, lr_pred, forecast_set,mean,error_lr=LIN_REG_ALGO(df)"
      ],
      "metadata": {
        "id": "5p3zKeSgA-GJ",
        "colab": {
          "base_uri": "https://localhost:8080/"
        },
        "outputId": "aca7812b-568e-4042-b791-b94690a34f5b"
      },
      "execution_count": null,
      "outputs": [
        {
          "output_type": "stream",
          "name": "stdout",
          "text": [
            "\n",
            "##############################################################################\n",
            "Tomorrow's  Closing Price Prediction by Linear Regression:  901.4473971747268\n",
            "Linear Regression RMSE: 89.53866179104529\n",
            "##############################################################################\n"
          ]
        },
        {
          "output_type": "display_data",
          "data": {
            "text/plain": [
              "<Figure size 468x312 with 1 Axes>"
            ],
            "image/png": "[encoded data removed]"
          },
          "metadata": {}
        }
      ]
    },
    {
      "cell_type": "code",
      "source": [
        "polarity,tw_list,tw_pol,pos,neg,neutral = retrieving_tweets_polarity('btc')"
      ],
      "metadata": {
        "id": "5Y__4W_aBBE0",
        "colab": {
          "base_uri": "https://localhost:8080/"
        },
        "outputId": "2adece5c-cc9e-41f5-93af-94375e4eba12"
      },
      "execution_count": null,
      "outputs": [
        {
          "output_type": "stream",
          "name": "stdout",
          "text": [
            "##############################################################################\n",
            "Positive Tweets : 40 Negative Tweets : 5 Neutral Tweets : 55\n",
            "##############################################################################\n",
            "\n",
            "##############################################################################\n",
            "Tweets Polarity: Overall Positive\n",
            "##############################################################################\n"
          ]
        },
        {
          "output_type": "display_data",
          "data": {
            "text/plain": [
              "<Figure size 468x312 with 0 Axes>"
            ]
          },
          "metadata": {}
        },
        {
          "output_type": "display_data",
          "data": {
            "text/plain": [
              "<Figure size 468x312 with 1 Axes>"
            ],
            "image/png": "[encoded data removed]"
          },
          "metadata": {}
        }
      ]
    },
    {
      "cell_type": "code",
      "source": [
        "df=pd.read_csv('/content/Crypto.csv')\n",
        "today_crypto=df.iloc[-1:]\n",
        "\n",
        "decision=recommending(df,polarity,today_crypto,arima_pred)"
      ],
      "metadata": {
        "id": "IJOXz2vCBIAy",
        "colab": {
          "base_uri": "https://localhost:8080/"
        },
        "outputId": "63506d81-a43d-48bb-fb6e-50f6c29e3a39"
      },
      "execution_count": null,
      "outputs": [
        {
          "output_type": "stream",
          "name": "stdout",
          "text": [
            "\n",
            "##############################################################################\n",
            "According to the ML Predictions and Sentiment Analysis of Tweets, a RISE in btc Bitcoin is expected =>  BUY\n"
          ]
        }
      ]
    }
  ]
}